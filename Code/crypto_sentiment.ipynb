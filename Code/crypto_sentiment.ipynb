{
 "cells": [
  {
   "cell_type": "markdown",
   "metadata": {},
   "source": [
    "# Unit 12 - Tales from the Crypto\n",
    "\n",
    "---\n"
   ]
  },
  {
   "cell_type": "markdown",
   "metadata": {},
   "source": [
    "## 1. Sentiment Analysis\n",
    "\n",
    "Use the [newsapi](https://newsapi.org/) to pull the latest news articles for Bitcoin and Ethereum and create a DataFrame of sentiment scores for each coin.\n",
    "\n",
    "Use descriptive statistics to answer the following questions:\n",
    "1. Which coin had the highest mean positive score?\n",
    "2. Which coin had the highest negative score?\n",
    "3. Which coin had the highest positive score?"
   ]
  },
  {
   "cell_type": "code",
   "execution_count": 1,
   "metadata": {},
   "outputs": [
    {
     "name": "stderr",
     "output_type": "stream",
     "text": [
      "[nltk_data] Downloading package vader_lexicon to\n",
      "[nltk_data]     C:\\Users\\antho\\AppData\\Roaming\\nltk_data...\n",
      "[nltk_data]   Package vader_lexicon is already up-to-date!\n"
     ]
    }
   ],
   "source": [
    "# Initial imports\n",
    "import os\n",
    "import pandas as pd\n",
    "from dotenv import load_dotenv\n",
    "import nltk as nltk\n",
    "nltk.download('vader_lexicon')\n",
    "from newsapi import NewsApiClient\n",
    "from nltk.sentiment.vader import SentimentIntensityAnalyzer\n",
    "analyzer = SentimentIntensityAnalyzer()\n",
    "\n",
    "%matplotlib inline"
   ]
  },
  {
   "cell_type": "code",
   "execution_count": 2,
   "metadata": {},
   "outputs": [],
   "source": [
    "# Read your api key environment variable\n",
    "\n",
    "# YOUR CODE HERE!\n",
    "load_dotenv()\n",
    "alpaca_api_key = os.getenv('ALPACA_API_KEY')\n",
    "alpaca_secret_key = os.getenv('ALPACA_SECRET_KEY')\n",
    "api_key = os.getenv('NEWS_API_KEY')"
   ]
  },
  {
   "cell_type": "code",
   "execution_count": 3,
   "metadata": {},
   "outputs": [
    {
     "name": "stdout",
     "output_type": "stream",
     "text": [
      "<class 'str'>\n",
      "<class 'str'>\n",
      "<class 'str'>\n"
     ]
    }
   ],
   "source": [
    "# Check api keys\n",
    "print(type(alpaca_api_key))\n",
    "print(type(alpaca_secret_key))\n",
    "print(type(api_key))"
   ]
  },
  {
   "cell_type": "code",
   "execution_count": 4,
   "metadata": {},
   "outputs": [],
   "source": [
    "# Create a newsapi client\n",
    "# YOUR CODE HERE!\n",
    "newsapi = NewsApiClient(api_key=api_key)"
   ]
  },
  {
   "cell_type": "code",
   "execution_count": 5,
   "metadata": {},
   "outputs": [
    {
     "data": {
      "text/plain": [
       "7288"
      ]
     },
     "execution_count": 5,
     "metadata": {},
     "output_type": "execute_result"
    }
   ],
   "source": [
    "# Fetch the Bitcoin news articles\n",
    "# YOUR CODE HERE!\n",
    "bitcoin_news_en = newsapi.get_everything(\n",
    "    q=\"bitcoin\",\n",
    "    language=\"en\"\n",
    ")\n",
    "\n",
    "# Show the total number of news\n",
    "bitcoin_news_en[\"totalResults\"]"
   ]
  },
  {
   "cell_type": "code",
   "execution_count": 6,
   "metadata": {},
   "outputs": [
    {
     "data": {
      "text/plain": [
       "3544"
      ]
     },
     "execution_count": 6,
     "metadata": {},
     "output_type": "execute_result"
    }
   ],
   "source": [
    "# Fetch the Ethereum news articles\n",
    "# YOUR CODE HERE!\n",
    "ethereum_news_en = newsapi.get_everything(\n",
    "    q=\"ethereum\",\n",
    "    language=\"en\"\n",
    ")\n",
    "\n",
    "# Show the total number of news\n",
    "ethereum_news_en[\"totalResults\"]"
   ]
  },
  {
   "cell_type": "code",
   "execution_count": 7,
   "metadata": {},
   "outputs": [],
   "source": [
    "# Create the Bitcoin sentiment scores DataFrame\n",
    "# YOUR CODE HERE!\n",
    "\n",
    "#Function to create the bitcoin and ethereum dataframes\n",
    "def create_df(news, language):\n",
    "    articles = []\n",
    "    for article in news:\n",
    "        try:\n",
    "            title = article[\"title\"]\n",
    "            description = article[\"description\"]\n",
    "            text = article[\"content\"]\n",
    "            date = article[\"publishedAt\"][:10]\n",
    "\n",
    "            articles.append({\n",
    "                \"title\": title,\n",
    "                \"description\": description,\n",
    "                \"text\": text,\n",
    "                \"date\": date,\n",
    "                \"language\": language\n",
    "            })\n",
    "        except AttributeError as ae:\n",
    "            pass\n",
    "\n",
    "    return pd.DataFrame(articles)"
   ]
  },
  {
   "cell_type": "code",
   "execution_count": 8,
   "metadata": {},
   "outputs": [],
   "source": [
    "# Bitcoin sentiment scores Dataframe\n",
    "bitcoin_en_df = create_df(bitcoin_news_en[\"articles\"], \"en\")\n",
    "\n",
    "# Ethereum sentiment scores DataFrame\n",
    "ethereum_en_df = create_df(ethereum_news_en[\"articles\"], \"en\")"
   ]
  },
  {
   "cell_type": "code",
   "execution_count": 9,
   "metadata": {},
   "outputs": [],
   "source": [
    "\"\"\" Create sentiment score function \"\"\"\n",
    "\n",
    "\"\"\" BITCOIN \"\"\"\n",
    "\n",
    "def get_sentiment(score):\n",
    "    \"\"\"\n",
    "    Calculates the sentiment based on the compound score.\n",
    "    \"\"\"\n",
    "    result = 0  # Neutral by default\n",
    "    if score >= 0.05:  # Positive\n",
    "        result = 1\n",
    "    elif score <= -0.05:  # Negative\n",
    "        result = -1\n",
    "\n",
    "    return result\n",
    "\n",
    "# Sentiment scores dictionaries\n",
    "title_sent = {\n",
    "    \"title_compound\": [],\n",
    "    \"title_pos\": [],\n",
    "    \"title_neu\": [],\n",
    "    \"title_neg\": [],\n",
    "    \"title_sent\": [],\n",
    "}\n",
    "text_sent = {\n",
    "    \"text_compound\": [],\n",
    "    \"text_pos\": [],\n",
    "    \"text_neu\": [],\n",
    "    \"text_neg\": [],\n",
    "    \"text_sent\": [],\n",
    "}\n",
    "\n",
    "# Get sentiment for the text and the title\n",
    "for index, row in bitcoin_en_df.iterrows():\n",
    "    try:\n",
    "        # Sentiment scoring with VADER\n",
    "        title_sentiment = analyzer.polarity_scores(row[\"title\"])\n",
    "        title_sent[\"title_compound\"].append(title_sentiment[\"compound\"])\n",
    "        title_sent[\"title_pos\"].append(title_sentiment[\"pos\"])\n",
    "        title_sent[\"title_neu\"].append(title_sentiment[\"neu\"])\n",
    "        title_sent[\"title_neg\"].append(title_sentiment[\"neg\"])\n",
    "        title_sent[\"title_sent\"].append(get_sentiment(title_sentiment[\"compound\"]))\n",
    "\n",
    "        text_sentiment = analyzer.polarity_scores(row[\"text\"])\n",
    "        text_sent[\"text_compound\"].append(text_sentiment[\"compound\"])\n",
    "        text_sent[\"text_pos\"].append(text_sentiment[\"pos\"])\n",
    "        text_sent[\"text_neu\"].append(text_sentiment[\"neu\"])\n",
    "        text_sent[\"text_neg\"].append(text_sentiment[\"neg\"])\n",
    "        text_sent[\"text_sent\"].append(get_sentiment(text_sentiment[\"compound\"]))\n",
    "    except AttributeError:\n",
    "        pass\n",
    "\n",
    "# Attaching sentiment columns to the News DataFrame\n",
    "title_sentiment_df = pd.DataFrame(title_sent)\n",
    "text_sentiment_df = pd.DataFrame(text_sent)\n",
    "bitcoin_en_df = bitcoin_en_df.join(title_sentiment_df).join(text_sentiment_df)"
   ]
  },
  {
   "cell_type": "code",
   "execution_count": 10,
   "metadata": {},
   "outputs": [],
   "source": [
    "\"\"\" ETHEREUM \"\"\"\n",
    "\n",
    "# Sentiment scores dictionaries\n",
    "title_sent = {\n",
    "    \"title_compound\": [],\n",
    "    \"title_pos\": [],\n",
    "    \"title_neu\": [],\n",
    "    \"title_neg\": [],\n",
    "    \"title_sent\": [],\n",
    "}\n",
    "text_sent = {\n",
    "    \"text_compound\": [],\n",
    "    \"text_pos\": [],\n",
    "    \"text_neu\": [],\n",
    "    \"text_neg\": [],\n",
    "    \"text_sent\": [],\n",
    "}\n",
    "\n",
    "# Get sentiment for the text and the title\n",
    "for index, row in ethereum_en_df.iterrows():\n",
    "    try:\n",
    "        # Sentiment scoring with VADER\n",
    "        title_sentiment = analyzer.polarity_scores(row[\"title\"])\n",
    "        title_sent[\"title_compound\"].append(title_sentiment[\"compound\"])\n",
    "        title_sent[\"title_pos\"].append(title_sentiment[\"pos\"])\n",
    "        title_sent[\"title_neu\"].append(title_sentiment[\"neu\"])\n",
    "        title_sent[\"title_neg\"].append(title_sentiment[\"neg\"])\n",
    "        title_sent[\"title_sent\"].append(get_sentiment(title_sentiment[\"compound\"]))\n",
    "\n",
    "        text_sentiment = analyzer.polarity_scores(row[\"text\"])\n",
    "        text_sent[\"text_compound\"].append(text_sentiment[\"compound\"])\n",
    "        text_sent[\"text_pos\"].append(text_sentiment[\"pos\"])\n",
    "        text_sent[\"text_neu\"].append(text_sentiment[\"neu\"])\n",
    "        text_sent[\"text_neg\"].append(text_sentiment[\"neg\"])\n",
    "        text_sent[\"text_sent\"].append(get_sentiment(text_sentiment[\"compound\"]))\n",
    "    except AttributeError:\n",
    "        pass\n",
    "\n",
    "# Attaching sentiment columns to the News DataFrame\n",
    "title_sentiment_df = pd.DataFrame(title_sent)\n",
    "text_sentiment_df = pd.DataFrame(text_sent)\n",
    "ethereum_en_df = ethereum_en_df.join(title_sentiment_df).join(text_sentiment_df)"
   ]
  },
  {
   "cell_type": "code",
   "execution_count": 39,
   "metadata": {},
   "outputs": [
    {
     "data": {
      "text/plain": [
       "'When Russia invaded Ukraine, Niki Proshin was already a year into making a living as a vlogger — he had a YouTube channel, a TikTok channel, and an Instagram. He also ran an online Russian club for a… [+5883 chars]'"
      ]
     },
     "execution_count": 39,
     "metadata": {},
     "output_type": "execute_result"
    }
   ],
   "source": [
    "bitcoin_en_df['text'][0]"
   ]
  },
  {
   "cell_type": "code",
   "execution_count": 12,
   "metadata": {},
   "outputs": [
    {
     "data": {
      "text/html": [
       "<div>\n",
       "<style scoped>\n",
       "    .dataframe tbody tr th:only-of-type {\n",
       "        vertical-align: middle;\n",
       "    }\n",
       "\n",
       "    .dataframe tbody tr th {\n",
       "        vertical-align: top;\n",
       "    }\n",
       "\n",
       "    .dataframe thead th {\n",
       "        text-align: right;\n",
       "    }\n",
       "</style>\n",
       "<table border=\"1\" class=\"dataframe\">\n",
       "  <thead>\n",
       "    <tr style=\"text-align: right;\">\n",
       "      <th></th>\n",
       "      <th>title</th>\n",
       "      <th>description</th>\n",
       "      <th>text</th>\n",
       "      <th>date</th>\n",
       "      <th>language</th>\n",
       "      <th>title_compound</th>\n",
       "      <th>title_pos</th>\n",
       "      <th>title_neu</th>\n",
       "      <th>title_neg</th>\n",
       "      <th>title_sent</th>\n",
       "      <th>text_compound</th>\n",
       "      <th>text_pos</th>\n",
       "      <th>text_neu</th>\n",
       "      <th>text_neg</th>\n",
       "      <th>text_sent</th>\n",
       "    </tr>\n",
       "  </thead>\n",
       "  <tbody>\n",
       "    <tr>\n",
       "      <th>0</th>\n",
       "      <td>Web3 Threatens to Segregate Our Online Lives</td>\n",
       "      <td>Governance tokens seem like a tantalizing solu...</td>\n",
       "      <td>In February, shit hit the fan in the usual way...</td>\n",
       "      <td>2022-03-01</td>\n",
       "      <td>en</td>\n",
       "      <td>-0.3818</td>\n",
       "      <td>0.0</td>\n",
       "      <td>0.698</td>\n",
       "      <td>0.302</td>\n",
       "      <td>-1</td>\n",
       "      <td>-0.3182</td>\n",
       "      <td>0.059</td>\n",
       "      <td>0.848</td>\n",
       "      <td>0.093</td>\n",
       "      <td>-1</td>\n",
       "    </tr>\n",
       "    <tr>\n",
       "      <th>1</th>\n",
       "      <td>Coinbase earnings show trading of ethereum and...</td>\n",
       "      <td>Ethereum trading volume increased from 15% to ...</td>\n",
       "      <td>Coinbase reported that the share of trading vo...</td>\n",
       "      <td>2022-02-25</td>\n",
       "      <td>en</td>\n",
       "      <td>0.0000</td>\n",
       "      <td>0.0</td>\n",
       "      <td>1.000</td>\n",
       "      <td>0.000</td>\n",
       "      <td>0</td>\n",
       "      <td>0.6705</td>\n",
       "      <td>0.188</td>\n",
       "      <td>0.812</td>\n",
       "      <td>0.000</td>\n",
       "      <td>1</td>\n",
       "    </tr>\n",
       "    <tr>\n",
       "      <th>2</th>\n",
       "      <td>How Ukrainians are fundraising in cryptocurrency</td>\n",
       "      <td>Millions of dollars of cryptocurrency have flo...</td>\n",
       "      <td>Illustration by James Bareham / The Verge\\r\\n\\...</td>\n",
       "      <td>2022-02-26</td>\n",
       "      <td>en</td>\n",
       "      <td>0.0000</td>\n",
       "      <td>0.0</td>\n",
       "      <td>1.000</td>\n",
       "      <td>0.000</td>\n",
       "      <td>0</td>\n",
       "      <td>-0.4588</td>\n",
       "      <td>0.000</td>\n",
       "      <td>0.917</td>\n",
       "      <td>0.083</td>\n",
       "      <td>-1</td>\n",
       "    </tr>\n",
       "    <tr>\n",
       "      <th>3</th>\n",
       "      <td>How People Actually Make Money From Cryptocurr...</td>\n",
       "      <td>Power traders use “staking” and “yield farming...</td>\n",
       "      <td>If it sounds too good to be true, youre not wr...</td>\n",
       "      <td>2022-03-13</td>\n",
       "      <td>en</td>\n",
       "      <td>0.0000</td>\n",
       "      <td>0.0</td>\n",
       "      <td>1.000</td>\n",
       "      <td>0.000</td>\n",
       "      <td>0</td>\n",
       "      <td>0.8340</td>\n",
       "      <td>0.236</td>\n",
       "      <td>0.713</td>\n",
       "      <td>0.050</td>\n",
       "      <td>1</td>\n",
       "    </tr>\n",
       "    <tr>\n",
       "      <th>4</th>\n",
       "      <td>What You Need to Know About Ethereum's Role in...</td>\n",
       "      <td>This now-seven-year-old decentralized and open...</td>\n",
       "      <td>It seems that in 2022, you cant escape from th...</td>\n",
       "      <td>2022-03-03</td>\n",
       "      <td>en</td>\n",
       "      <td>0.0000</td>\n",
       "      <td>0.0</td>\n",
       "      <td>1.000</td>\n",
       "      <td>0.000</td>\n",
       "      <td>0</td>\n",
       "      <td>-0.1326</td>\n",
       "      <td>0.000</td>\n",
       "      <td>0.956</td>\n",
       "      <td>0.044</td>\n",
       "      <td>-1</td>\n",
       "    </tr>\n",
       "  </tbody>\n",
       "</table>\n",
       "</div>"
      ],
      "text/plain": [
       "                                               title  \\\n",
       "0       Web3 Threatens to Segregate Our Online Lives   \n",
       "1  Coinbase earnings show trading of ethereum and...   \n",
       "2   How Ukrainians are fundraising in cryptocurrency   \n",
       "3  How People Actually Make Money From Cryptocurr...   \n",
       "4  What You Need to Know About Ethereum's Role in...   \n",
       "\n",
       "                                         description  \\\n",
       "0  Governance tokens seem like a tantalizing solu...   \n",
       "1  Ethereum trading volume increased from 15% to ...   \n",
       "2  Millions of dollars of cryptocurrency have flo...   \n",
       "3  Power traders use “staking” and “yield farming...   \n",
       "4  This now-seven-year-old decentralized and open...   \n",
       "\n",
       "                                                text        date language  \\\n",
       "0  In February, shit hit the fan in the usual way...  2022-03-01       en   \n",
       "1  Coinbase reported that the share of trading vo...  2022-02-25       en   \n",
       "2  Illustration by James Bareham / The Verge\\r\\n\\...  2022-02-26       en   \n",
       "3  If it sounds too good to be true, youre not wr...  2022-03-13       en   \n",
       "4  It seems that in 2022, you cant escape from th...  2022-03-03       en   \n",
       "\n",
       "   title_compound  title_pos  title_neu  title_neg  title_sent  text_compound  \\\n",
       "0         -0.3818        0.0      0.698      0.302          -1        -0.3182   \n",
       "1          0.0000        0.0      1.000      0.000           0         0.6705   \n",
       "2          0.0000        0.0      1.000      0.000           0        -0.4588   \n",
       "3          0.0000        0.0      1.000      0.000           0         0.8340   \n",
       "4          0.0000        0.0      1.000      0.000           0        -0.1326   \n",
       "\n",
       "   text_pos  text_neu  text_neg  text_sent  \n",
       "0     0.059     0.848     0.093         -1  \n",
       "1     0.188     0.812     0.000          1  \n",
       "2     0.000     0.917     0.083         -1  \n",
       "3     0.236     0.713     0.050          1  \n",
       "4     0.000     0.956     0.044         -1  "
      ]
     },
     "execution_count": 12,
     "metadata": {},
     "output_type": "execute_result"
    }
   ],
   "source": [
    "ethereum_en_df.head()"
   ]
  },
  {
   "cell_type": "code",
   "execution_count": 13,
   "metadata": {},
   "outputs": [
    {
     "data": {
      "text/html": [
       "<div>\n",
       "<style scoped>\n",
       "    .dataframe tbody tr th:only-of-type {\n",
       "        vertical-align: middle;\n",
       "    }\n",
       "\n",
       "    .dataframe tbody tr th {\n",
       "        vertical-align: top;\n",
       "    }\n",
       "\n",
       "    .dataframe thead th {\n",
       "        text-align: right;\n",
       "    }\n",
       "</style>\n",
       "<table border=\"1\" class=\"dataframe\">\n",
       "  <thead>\n",
       "    <tr style=\"text-align: right;\">\n",
       "      <th></th>\n",
       "      <th>title_compound</th>\n",
       "      <th>title_pos</th>\n",
       "      <th>title_neu</th>\n",
       "      <th>title_neg</th>\n",
       "      <th>title_sent</th>\n",
       "      <th>text_compound</th>\n",
       "      <th>text_pos</th>\n",
       "      <th>text_neu</th>\n",
       "      <th>text_neg</th>\n",
       "      <th>text_sent</th>\n",
       "    </tr>\n",
       "  </thead>\n",
       "  <tbody>\n",
       "    <tr>\n",
       "      <th>count</th>\n",
       "      <td>20.000000</td>\n",
       "      <td>20.000000</td>\n",
       "      <td>20.000000</td>\n",
       "      <td>20.000000</td>\n",
       "      <td>20.000000</td>\n",
       "      <td>20.000000</td>\n",
       "      <td>20.000000</td>\n",
       "      <td>20.000000</td>\n",
       "      <td>20.000000</td>\n",
       "      <td>20.00000</td>\n",
       "    </tr>\n",
       "    <tr>\n",
       "      <th>mean</th>\n",
       "      <td>-0.026690</td>\n",
       "      <td>0.073750</td>\n",
       "      <td>0.829800</td>\n",
       "      <td>0.096400</td>\n",
       "      <td>0.000000</td>\n",
       "      <td>-0.028205</td>\n",
       "      <td>0.047650</td>\n",
       "      <td>0.902150</td>\n",
       "      <td>0.050100</td>\n",
       "      <td>-0.10000</td>\n",
       "    </tr>\n",
       "    <tr>\n",
       "      <th>std</th>\n",
       "      <td>0.260131</td>\n",
       "      <td>0.108064</td>\n",
       "      <td>0.188622</td>\n",
       "      <td>0.146133</td>\n",
       "      <td>0.725476</td>\n",
       "      <td>0.401889</td>\n",
       "      <td>0.045747</td>\n",
       "      <td>0.075156</td>\n",
       "      <td>0.062982</td>\n",
       "      <td>0.91191</td>\n",
       "    </tr>\n",
       "    <tr>\n",
       "      <th>min</th>\n",
       "      <td>-0.599400</td>\n",
       "      <td>0.000000</td>\n",
       "      <td>0.515000</td>\n",
       "      <td>0.000000</td>\n",
       "      <td>-1.000000</td>\n",
       "      <td>-0.771300</td>\n",
       "      <td>0.000000</td>\n",
       "      <td>0.739000</td>\n",
       "      <td>0.000000</td>\n",
       "      <td>-1.00000</td>\n",
       "    </tr>\n",
       "    <tr>\n",
       "      <th>25%</th>\n",
       "      <td>-0.019300</td>\n",
       "      <td>0.000000</td>\n",
       "      <td>0.728250</td>\n",
       "      <td>0.000000</td>\n",
       "      <td>-0.250000</td>\n",
       "      <td>-0.267050</td>\n",
       "      <td>0.000000</td>\n",
       "      <td>0.852500</td>\n",
       "      <td>0.000000</td>\n",
       "      <td>-1.00000</td>\n",
       "    </tr>\n",
       "    <tr>\n",
       "      <th>50%</th>\n",
       "      <td>0.000000</td>\n",
       "      <td>0.000000</td>\n",
       "      <td>0.859500</td>\n",
       "      <td>0.000000</td>\n",
       "      <td>0.000000</td>\n",
       "      <td>0.000000</td>\n",
       "      <td>0.051500</td>\n",
       "      <td>0.913000</td>\n",
       "      <td>0.019000</td>\n",
       "      <td>0.00000</td>\n",
       "    </tr>\n",
       "    <tr>\n",
       "      <th>75%</th>\n",
       "      <td>0.057625</td>\n",
       "      <td>0.164250</td>\n",
       "      <td>1.000000</td>\n",
       "      <td>0.213750</td>\n",
       "      <td>0.250000</td>\n",
       "      <td>0.328950</td>\n",
       "      <td>0.075750</td>\n",
       "      <td>0.952500</td>\n",
       "      <td>0.085000</td>\n",
       "      <td>1.00000</td>\n",
       "    </tr>\n",
       "    <tr>\n",
       "      <th>max</th>\n",
       "      <td>0.361200</td>\n",
       "      <td>0.301000</td>\n",
       "      <td>1.000000</td>\n",
       "      <td>0.438000</td>\n",
       "      <td>1.000000</td>\n",
       "      <td>0.636900</td>\n",
       "      <td>0.152000</td>\n",
       "      <td>1.000000</td>\n",
       "      <td>0.187000</td>\n",
       "      <td>1.00000</td>\n",
       "    </tr>\n",
       "  </tbody>\n",
       "</table>\n",
       "</div>"
      ],
      "text/plain": [
       "       title_compound  title_pos  title_neu  title_neg  title_sent  \\\n",
       "count       20.000000  20.000000  20.000000  20.000000   20.000000   \n",
       "mean        -0.026690   0.073750   0.829800   0.096400    0.000000   \n",
       "std          0.260131   0.108064   0.188622   0.146133    0.725476   \n",
       "min         -0.599400   0.000000   0.515000   0.000000   -1.000000   \n",
       "25%         -0.019300   0.000000   0.728250   0.000000   -0.250000   \n",
       "50%          0.000000   0.000000   0.859500   0.000000    0.000000   \n",
       "75%          0.057625   0.164250   1.000000   0.213750    0.250000   \n",
       "max          0.361200   0.301000   1.000000   0.438000    1.000000   \n",
       "\n",
       "       text_compound   text_pos   text_neu   text_neg  text_sent  \n",
       "count      20.000000  20.000000  20.000000  20.000000   20.00000  \n",
       "mean       -0.028205   0.047650   0.902150   0.050100   -0.10000  \n",
       "std         0.401889   0.045747   0.075156   0.062982    0.91191  \n",
       "min        -0.771300   0.000000   0.739000   0.000000   -1.00000  \n",
       "25%        -0.267050   0.000000   0.852500   0.000000   -1.00000  \n",
       "50%         0.000000   0.051500   0.913000   0.019000    0.00000  \n",
       "75%         0.328950   0.075750   0.952500   0.085000    1.00000  \n",
       "max         0.636900   0.152000   1.000000   0.187000    1.00000  "
      ]
     },
     "execution_count": 13,
     "metadata": {},
     "output_type": "execute_result"
    }
   ],
   "source": [
    "# Describe the Bitcoin Sentiment\n",
    "# YOUR CODE HERE!\n",
    "bitcoin_en_df.describe()"
   ]
  },
  {
   "cell_type": "code",
   "execution_count": 17,
   "metadata": {},
   "outputs": [
    {
     "data": {
      "text/html": [
       "<div>\n",
       "<style scoped>\n",
       "    .dataframe tbody tr th:only-of-type {\n",
       "        vertical-align: middle;\n",
       "    }\n",
       "\n",
       "    .dataframe tbody tr th {\n",
       "        vertical-align: top;\n",
       "    }\n",
       "\n",
       "    .dataframe thead th {\n",
       "        text-align: right;\n",
       "    }\n",
       "</style>\n",
       "<table border=\"1\" class=\"dataframe\">\n",
       "  <thead>\n",
       "    <tr style=\"text-align: right;\">\n",
       "      <th></th>\n",
       "      <th>title_compound</th>\n",
       "      <th>title_pos</th>\n",
       "      <th>title_neu</th>\n",
       "      <th>title_neg</th>\n",
       "      <th>title_sent</th>\n",
       "      <th>text_compound</th>\n",
       "      <th>text_pos</th>\n",
       "      <th>text_neu</th>\n",
       "      <th>text_neg</th>\n",
       "      <th>text_sent</th>\n",
       "    </tr>\n",
       "  </thead>\n",
       "  <tbody>\n",
       "    <tr>\n",
       "      <th>count</th>\n",
       "      <td>20.000000</td>\n",
       "      <td>20.000000</td>\n",
       "      <td>20.000000</td>\n",
       "      <td>20.000000</td>\n",
       "      <td>20.00000</td>\n",
       "      <td>20.000000</td>\n",
       "      <td>20.000000</td>\n",
       "      <td>20.00000</td>\n",
       "      <td>20.00000</td>\n",
       "      <td>20.000000</td>\n",
       "    </tr>\n",
       "    <tr>\n",
       "      <th>mean</th>\n",
       "      <td>0.057060</td>\n",
       "      <td>0.048550</td>\n",
       "      <td>0.919750</td>\n",
       "      <td>0.031700</td>\n",
       "      <td>0.15000</td>\n",
       "      <td>0.190925</td>\n",
       "      <td>0.078750</td>\n",
       "      <td>0.89145</td>\n",
       "      <td>0.02975</td>\n",
       "      <td>0.300000</td>\n",
       "    </tr>\n",
       "    <tr>\n",
       "      <th>std</th>\n",
       "      <td>0.232918</td>\n",
       "      <td>0.082891</td>\n",
       "      <td>0.102651</td>\n",
       "      <td>0.083104</td>\n",
       "      <td>0.67082</td>\n",
       "      <td>0.401422</td>\n",
       "      <td>0.085383</td>\n",
       "      <td>0.10092</td>\n",
       "      <td>0.04006</td>\n",
       "      <td>0.801315</td>\n",
       "    </tr>\n",
       "    <tr>\n",
       "      <th>min</th>\n",
       "      <td>-0.381800</td>\n",
       "      <td>0.000000</td>\n",
       "      <td>0.698000</td>\n",
       "      <td>0.000000</td>\n",
       "      <td>-1.00000</td>\n",
       "      <td>-0.526700</td>\n",
       "      <td>0.000000</td>\n",
       "      <td>0.69200</td>\n",
       "      <td>0.00000</td>\n",
       "      <td>-1.000000</td>\n",
       "    </tr>\n",
       "    <tr>\n",
       "      <th>25%</th>\n",
       "      <td>0.000000</td>\n",
       "      <td>0.000000</td>\n",
       "      <td>0.863750</td>\n",
       "      <td>0.000000</td>\n",
       "      <td>0.00000</td>\n",
       "      <td>0.000000</td>\n",
       "      <td>0.000000</td>\n",
       "      <td>0.84100</td>\n",
       "      <td>0.00000</td>\n",
       "      <td>0.000000</td>\n",
       "    </tr>\n",
       "    <tr>\n",
       "      <th>50%</th>\n",
       "      <td>0.000000</td>\n",
       "      <td>0.000000</td>\n",
       "      <td>1.000000</td>\n",
       "      <td>0.000000</td>\n",
       "      <td>0.00000</td>\n",
       "      <td>0.025800</td>\n",
       "      <td>0.066500</td>\n",
       "      <td>0.91050</td>\n",
       "      <td>0.00000</td>\n",
       "      <td>0.500000</td>\n",
       "    </tr>\n",
       "    <tr>\n",
       "      <th>75%</th>\n",
       "      <td>0.201725</td>\n",
       "      <td>0.097750</td>\n",
       "      <td>1.000000</td>\n",
       "      <td>0.000000</td>\n",
       "      <td>1.00000</td>\n",
       "      <td>0.514625</td>\n",
       "      <td>0.120500</td>\n",
       "      <td>1.00000</td>\n",
       "      <td>0.06125</td>\n",
       "      <td>1.000000</td>\n",
       "    </tr>\n",
       "    <tr>\n",
       "      <th>max</th>\n",
       "      <td>0.458800</td>\n",
       "      <td>0.250000</td>\n",
       "      <td>1.000000</td>\n",
       "      <td>0.302000</td>\n",
       "      <td>1.00000</td>\n",
       "      <td>0.834000</td>\n",
       "      <td>0.249000</td>\n",
       "      <td>1.00000</td>\n",
       "      <td>0.11500</td>\n",
       "      <td>1.000000</td>\n",
       "    </tr>\n",
       "  </tbody>\n",
       "</table>\n",
       "</div>"
      ],
      "text/plain": [
       "       title_compound  title_pos  title_neu  title_neg  title_sent  \\\n",
       "count       20.000000  20.000000  20.000000  20.000000    20.00000   \n",
       "mean         0.057060   0.048550   0.919750   0.031700     0.15000   \n",
       "std          0.232918   0.082891   0.102651   0.083104     0.67082   \n",
       "min         -0.381800   0.000000   0.698000   0.000000    -1.00000   \n",
       "25%          0.000000   0.000000   0.863750   0.000000     0.00000   \n",
       "50%          0.000000   0.000000   1.000000   0.000000     0.00000   \n",
       "75%          0.201725   0.097750   1.000000   0.000000     1.00000   \n",
       "max          0.458800   0.250000   1.000000   0.302000     1.00000   \n",
       "\n",
       "       text_compound   text_pos  text_neu  text_neg  text_sent  \n",
       "count      20.000000  20.000000  20.00000  20.00000  20.000000  \n",
       "mean        0.190925   0.078750   0.89145   0.02975   0.300000  \n",
       "std         0.401422   0.085383   0.10092   0.04006   0.801315  \n",
       "min        -0.526700   0.000000   0.69200   0.00000  -1.000000  \n",
       "25%         0.000000   0.000000   0.84100   0.00000   0.000000  \n",
       "50%         0.025800   0.066500   0.91050   0.00000   0.500000  \n",
       "75%         0.514625   0.120500   1.00000   0.06125   1.000000  \n",
       "max         0.834000   0.249000   1.00000   0.11500   1.000000  "
      ]
     },
     "execution_count": 17,
     "metadata": {},
     "output_type": "execute_result"
    }
   ],
   "source": [
    "# Describe the Ethereum Sentiment\n",
    "# YOUR CODE HERE!\n",
    "ethereum_en_df.describe()"
   ]
  },
  {
   "cell_type": "markdown",
   "metadata": {
    "tags": []
   },
   "source": [
    "### Questions:\n",
    "\n",
    "Q: Which coin had the highest mean positive score?\n",
    "\n",
    "A: Ethereium had the highest mean positive score at 0.078750\n",
    "\n",
    "Q: Which coin had the highest compound score?\n",
    "\n",
    "A: Ethereium had the highestest compound score at 0.834\n",
    "\n",
    "Q. Which coin had the highest positive score?\n",
    "\n",
    "A:  Ethereium had the highestest positive score of 0.249"
   ]
  },
  {
   "cell_type": "markdown",
   "metadata": {},
   "source": [
    "---"
   ]
  },
  {
   "cell_type": "markdown",
   "metadata": {},
   "source": [
    "## 2. Natural Language Processing\n",
    "---\n",
    "###   Tokenizer\n",
    "\n",
    "In this section, you will use NLTK and Python to tokenize the text for each coin. Be sure to:\n",
    "1. Lowercase each word.\n",
    "2. Remove Punctuation.\n",
    "3. Remove Stopwords."
   ]
  },
  {
   "cell_type": "code",
   "execution_count": 18,
   "metadata": {},
   "outputs": [],
   "source": [
    "from nltk.tokenize import word_tokenize, sent_tokenize\n",
    "from nltk.corpus import stopwords\n",
    "from nltk.stem import WordNetLemmatizer, PorterStemmer\n",
    "from string import punctuation\n",
    "import re"
   ]
  },
  {
   "cell_type": "code",
   "execution_count": 41,
   "metadata": {},
   "outputs": [],
   "source": [
    "# Instantiate the lemmatizer\n",
    "# YOUR CODE HERE!\n",
    "lemmatizer = WordNetLemmatizer()"
   ]
  },
  {
   "cell_type": "code",
   "execution_count": 47,
   "metadata": {},
   "outputs": [
    {
     "data": {
      "text/plain": [
       "['In February, shit hit the fan in the usual way: An old tweet resurfaced.',\n",
       " 'Brantly Millegan, director of operations at Ethereum Name Service (ENS), a web3 business, had written the following in May 201… [+3096 chars]']"
      ]
     },
     "execution_count": 47,
     "metadata": {},
     "output_type": "execute_result"
    }
   ],
   "source": [
    "s = ethereum_en_df['text'][0]\n",
    "sent_tokenize(s)"
   ]
  },
  {
   "cell_type": "code",
   "execution_count": 48,
   "metadata": {
    "scrolled": true,
    "tags": []
   },
   "outputs": [
    {
     "data": {
      "text/plain": [
       "[['In',\n",
       "  'February',\n",
       "  ',',\n",
       "  'shit',\n",
       "  'hit',\n",
       "  'the',\n",
       "  'fan',\n",
       "  'in',\n",
       "  'the',\n",
       "  'usual',\n",
       "  'way',\n",
       "  ':',\n",
       "  'An',\n",
       "  'old',\n",
       "  'tweet',\n",
       "  'resurfaced',\n",
       "  '.'],\n",
       " ['Brantly',\n",
       "  'Millegan',\n",
       "  ',',\n",
       "  'director',\n",
       "  'of',\n",
       "  'operations',\n",
       "  'at',\n",
       "  'Ethereum',\n",
       "  'Name',\n",
       "  'Service',\n",
       "  '(',\n",
       "  'ENS',\n",
       "  ')',\n",
       "  ',',\n",
       "  'a',\n",
       "  'web3',\n",
       "  'business',\n",
       "  ',',\n",
       "  'had',\n",
       "  'written',\n",
       "  'the',\n",
       "  'following',\n",
       "  'in',\n",
       "  'May',\n",
       "  '201…',\n",
       "  '[',\n",
       "  '+3096',\n",
       "  'chars',\n",
       "  ']']]"
      ]
     },
     "execution_count": 48,
     "metadata": {},
     "output_type": "execute_result"
    }
   ],
   "source": [
    "[word_tokenize(t) for t in sent_tokenize(s)]"
   ]
  },
  {
   "cell_type": "code",
   "execution_count": 25,
   "metadata": {},
   "outputs": [],
   "source": [
    "# Create a list of stopwords\n",
    "# YOUR CODE HERE!\n",
    "stopwords = ('said', 'sent', 'found', 'including', 'today', 'announced', 'week', 'basically', 'also')\n",
    "\n",
    "\n",
    "# Expand the default stopwords list if necessary\n",
    "# YOUR CODE HERE!\n",
    "\n",
    "stopwords_expanded = ()"
   ]
  },
  {
   "cell_type": "code",
   "execution_count": 55,
   "metadata": {},
   "outputs": [
    {
     "data": {
      "text/plain": [
       "0     In February, shit hit the fan in the usual way...\n",
       "1     Coinbase reported that the share of trading vo...\n",
       "2     Illustration by James Bareham / The Verge\\r\\n\\...\n",
       "3     If it sounds too good to be true, youre not wr...\n",
       "4     It seems that in 2022, you cant escape from th...\n",
       "5     The cryptocurrency boom over the past few year...\n",
       "6     A version of this article was published in TIM...\n",
       "7     Joe Biden is dipping his toes into crypto. On ...\n",
       "8     The cryptocurrency boom over the past few year...\n",
       "9     The cryptocurrency boom over the past few year...\n",
       "10    If blockchain technology is to reach true mass...\n",
       "11    The news: Blockchain specialist ConsenSys scoo...\n",
       "12    (Kitco News) The escalating Russia-Ukraine cri...\n",
       "13    During the days leading up to the March 11 pur...\n",
       "14    The travel services industry and fast-food cha...\n",
       "15    Personal Finance Insider writes about products...\n",
       "16    A Ukrainian nonprofit has raised bitcoin worth...\n",
       "17    As the international community rallies around ...\n",
       "18    Inflation rates have expectedly begun to soar ...\n",
       "19    Representations of cryptocurrencies Bitcoin, E...\n",
       "Name: text, dtype: object"
      ]
     },
     "execution_count": 55,
     "metadata": {},
     "output_type": "execute_result"
    }
   ],
   "source": [
    "article = ethereum_en_df['text']\n",
    "article"
   ]
  },
  {
   "cell_type": "code",
   "execution_count": 18,
   "metadata": {},
   "outputs": [],
   "source": [
    "# Complete the tokenizer function\n",
    "def tokenizer(text):\n",
    "    \n",
    "    \"\"\"Tokenizes text.\"\"\"\n",
    "    \n",
    "\n",
    "    # Remove the punctuation from text\n",
    "\n",
    "   \n",
    "    # Create a tokenized list of the words\n",
    "    \n",
    "    \n",
    "    # Lemmatize words into root word\n",
    "   \n",
    "    # Convert the words to lowercase\n",
    "    \n",
    "    # Remove the stop words\n",
    "    \n",
    "    return tokens"
   ]
  },
  {
   "cell_type": "code",
   "execution_count": 52,
   "metadata": {},
   "outputs": [
    {
     "ename": "AttributeError",
     "evalue": "'tuple' object has no attribute 'words'",
     "output_type": "error",
     "traceback": [
      "\u001b[1;31m---------------------------------------------------------------------------\u001b[0m",
      "\u001b[1;31mAttributeError\u001b[0m                            Traceback (most recent call last)",
      "\u001b[1;32m~\\AppData\\Local\\Temp/ipykernel_39916/4000457474.py\u001b[0m in \u001b[0;36m<module>\u001b[1;34m\u001b[0m\n\u001b[0;32m      1\u001b[0m \u001b[1;31m# Create a new tokens column for Bitcoin\u001b[0m\u001b[1;33m\u001b[0m\u001b[1;33m\u001b[0m\u001b[0m\n\u001b[0;32m      2\u001b[0m \u001b[1;31m# YOUR CODE HERE!\u001b[0m\u001b[1;33m\u001b[0m\u001b[1;33m\u001b[0m\u001b[0m\n\u001b[1;32m----> 3\u001b[1;33m \u001b[0mprint\u001b[0m\u001b[1;33m(\u001b[0m\u001b[1;33m(\u001b[0m\u001b[0mprocess_text\u001b[0m\u001b[1;33m(\u001b[0m\u001b[0marticle\u001b[0m\u001b[1;33m)\u001b[0m\u001b[1;33m)\u001b[0m\u001b[1;33m)\u001b[0m\u001b[1;33m\u001b[0m\u001b[1;33m\u001b[0m\u001b[0m\n\u001b[0m",
      "\u001b[1;32m~\\AppData\\Local\\Temp/ipykernel_39916/1178889818.py\u001b[0m in \u001b[0;36mprocess_text\u001b[1;34m(article)\u001b[0m\n\u001b[0;32m      1\u001b[0m \u001b[1;32mdef\u001b[0m \u001b[0mprocess_text\u001b[0m\u001b[1;33m(\u001b[0m\u001b[0marticle\u001b[0m\u001b[1;33m)\u001b[0m\u001b[1;33m:\u001b[0m\u001b[1;33m\u001b[0m\u001b[1;33m\u001b[0m\u001b[0m\n\u001b[1;32m----> 2\u001b[1;33m     \u001b[0msw\u001b[0m \u001b[1;33m=\u001b[0m \u001b[0mset\u001b[0m\u001b[1;33m(\u001b[0m\u001b[0mstopwords\u001b[0m\u001b[1;33m.\u001b[0m\u001b[0mwords\u001b[0m\u001b[1;33m(\u001b[0m\u001b[1;34m'english'\u001b[0m\u001b[1;33m)\u001b[0m\u001b[1;33m)\u001b[0m\u001b[1;33m\u001b[0m\u001b[1;33m\u001b[0m\u001b[0m\n\u001b[0m\u001b[0;32m      3\u001b[0m     \u001b[0mregex\u001b[0m \u001b[1;33m=\u001b[0m \u001b[0mre\u001b[0m\u001b[1;33m.\u001b[0m\u001b[0mcompile\u001b[0m\u001b[1;33m(\u001b[0m\u001b[1;34m\"[^a-zA-Z ]\"\u001b[0m\u001b[1;33m)\u001b[0m\u001b[1;33m\u001b[0m\u001b[1;33m\u001b[0m\u001b[0m\n\u001b[0;32m      4\u001b[0m     \u001b[0mre_clean\u001b[0m \u001b[1;33m=\u001b[0m \u001b[0mregex\u001b[0m\u001b[1;33m.\u001b[0m\u001b[0msub\u001b[0m\u001b[1;33m(\u001b[0m\u001b[1;34m''\u001b[0m\u001b[1;33m,\u001b[0m \u001b[0marticle\u001b[0m\u001b[1;33m)\u001b[0m\u001b[1;33m\u001b[0m\u001b[1;33m\u001b[0m\u001b[0m\n\u001b[0;32m      5\u001b[0m     \u001b[0mwords\u001b[0m \u001b[1;33m=\u001b[0m \u001b[0mword_tokenize\u001b[0m\u001b[1;33m(\u001b[0m\u001b[0mre_clean\u001b[0m\u001b[1;33m)\u001b[0m\u001b[1;33m\u001b[0m\u001b[1;33m\u001b[0m\u001b[0m\n",
      "\u001b[1;31mAttributeError\u001b[0m: 'tuple' object has no attribute 'words'"
     ]
    }
   ],
   "source": [
    "# Create a new tokens column for Bitcoin\n",
    "# YOUR CODE HERE!"
   ]
  },
  {
   "cell_type": "code",
   "execution_count": 20,
   "metadata": {},
   "outputs": [],
   "source": [
    "# Create a new tokens column for Ethereum\n",
    "# YOUR CODE HERE!"
   ]
  },
  {
   "cell_type": "markdown",
   "metadata": {},
   "source": [
    "---"
   ]
  },
  {
   "cell_type": "markdown",
   "metadata": {},
   "source": [
    "### NGrams and Frequency Analysis\n",
    "\n",
    "In this section you will look at the ngrams and word frequency for each coin. \n",
    "\n",
    "1. Use NLTK to produce the n-grams for N = 2. \n",
    "2. List the top 10 words for each coin. "
   ]
  },
  {
   "cell_type": "code",
   "execution_count": 21,
   "metadata": {},
   "outputs": [],
   "source": [
    "from collections import Counter\n",
    "from nltk import ngrams"
   ]
  },
  {
   "cell_type": "code",
   "execution_count": 22,
   "metadata": {},
   "outputs": [],
   "source": [
    "# Generate the Bitcoin N-grams where N=2\n",
    "# YOUR CODE HERE!"
   ]
  },
  {
   "cell_type": "code",
   "execution_count": 23,
   "metadata": {},
   "outputs": [],
   "source": [
    "# Generate the Ethereum N-grams where N=2\n",
    "# YOUR CODE HERE!"
   ]
  },
  {
   "cell_type": "code",
   "execution_count": 24,
   "metadata": {},
   "outputs": [],
   "source": [
    "# Function token_count generates the top 10 words for a given coin\n",
    "def token_count(tokens, N=3):\n",
    "    \"\"\"Returns the top N tokens from the frequency count\"\"\"\n",
    "    return Counter(tokens).most_common(N)"
   ]
  },
  {
   "cell_type": "code",
   "execution_count": 25,
   "metadata": {},
   "outputs": [],
   "source": [
    "# Use token_count to get the top 10 words for Bitcoin\n",
    "# YOUR CODE HERE!"
   ]
  },
  {
   "cell_type": "code",
   "execution_count": 26,
   "metadata": {},
   "outputs": [],
   "source": [
    "# Use token_count to get the top 10 words for Ethereum\n",
    "# YOUR CODE HERE!"
   ]
  },
  {
   "cell_type": "markdown",
   "metadata": {},
   "source": [
    "---"
   ]
  },
  {
   "cell_type": "markdown",
   "metadata": {},
   "source": [
    "### Word Clouds\n",
    "\n",
    "In this section, you will generate word clouds for each coin to summarize the news for each coin"
   ]
  },
  {
   "cell_type": "code",
   "execution_count": 27,
   "metadata": {},
   "outputs": [],
   "source": [
    "from wordcloud import WordCloud\n",
    "import matplotlib.pyplot as plt\n",
    "plt.style.use('seaborn-whitegrid')\n",
    "import matplotlib as mpl\n",
    "mpl.rcParams['figure.figsize'] = [20.0, 10.0]"
   ]
  },
  {
   "cell_type": "code",
   "execution_count": 28,
   "metadata": {},
   "outputs": [],
   "source": [
    "# Generate the Bitcoin word cloud\n",
    "# YOUR CODE HERE!"
   ]
  },
  {
   "cell_type": "code",
   "execution_count": 29,
   "metadata": {},
   "outputs": [],
   "source": [
    "# Generate the Ethereum word cloud\n",
    "# YOUR CODE HERE!"
   ]
  },
  {
   "cell_type": "markdown",
   "metadata": {},
   "source": [
    "---\n",
    "## 3. Named Entity Recognition\n",
    "\n",
    "In this section, you will build a named entity recognition model for both Bitcoin and Ethereum, then visualize the tags using SpaCy."
   ]
  },
  {
   "cell_type": "code",
   "execution_count": 30,
   "metadata": {},
   "outputs": [],
   "source": [
    "import spacy\n",
    "from spacy import displacy"
   ]
  },
  {
   "cell_type": "code",
   "execution_count": 31,
   "metadata": {},
   "outputs": [],
   "source": [
    "# Download the language model for SpaCy\n",
    "# !python -m spacy download en_core_web_sm"
   ]
  },
  {
   "cell_type": "code",
   "execution_count": 32,
   "metadata": {},
   "outputs": [],
   "source": [
    "# Load the spaCy model\n",
    "nlp = spacy.load('en_core_web_sm')"
   ]
  },
  {
   "cell_type": "markdown",
   "metadata": {},
   "source": [
    "---\n",
    "### Bitcoin NER"
   ]
  },
  {
   "cell_type": "code",
   "execution_count": 33,
   "metadata": {},
   "outputs": [],
   "source": [
    "# Concatenate all of the Bitcoin text together\n",
    "# YOUR CODE HERE!"
   ]
  },
  {
   "cell_type": "code",
   "execution_count": 34,
   "metadata": {},
   "outputs": [],
   "source": [
    "# Run the NER processor on all of the text\n",
    "# YOUR CODE HERE!\n",
    "\n",
    "# Add a title to the document\n",
    "# YOUR CODE HERE!"
   ]
  },
  {
   "cell_type": "code",
   "execution_count": 35,
   "metadata": {},
   "outputs": [],
   "source": [
    "# Render the visualization\n",
    "# YOUR CODE HERE!"
   ]
  },
  {
   "cell_type": "code",
   "execution_count": 36,
   "metadata": {},
   "outputs": [],
   "source": [
    "# List all Entities\n",
    "# YOUR CODE HERE!"
   ]
  },
  {
   "cell_type": "markdown",
   "metadata": {},
   "source": [
    "---"
   ]
  },
  {
   "cell_type": "markdown",
   "metadata": {},
   "source": [
    "### Ethereum NER"
   ]
  },
  {
   "cell_type": "code",
   "execution_count": 37,
   "metadata": {},
   "outputs": [],
   "source": [
    "# Concatenate all of the Ethereum text together\n",
    "# YOUR CODE HERE!"
   ]
  },
  {
   "cell_type": "code",
   "execution_count": 38,
   "metadata": {},
   "outputs": [],
   "source": [
    "# Run the NER processor on all of the text\n",
    "# YOUR CODE HERE!\n",
    "\n",
    "# Add a title to the document\n",
    "# YOUR CODE HERE!"
   ]
  },
  {
   "cell_type": "code",
   "execution_count": 39,
   "metadata": {},
   "outputs": [],
   "source": [
    "# Render the visualization\n",
    "# YOUR CODE HERE!"
   ]
  },
  {
   "cell_type": "code",
   "execution_count": 40,
   "metadata": {},
   "outputs": [],
   "source": [
    "# List all Entities\n",
    "# YOUR CODE HERE!"
   ]
  },
  {
   "cell_type": "markdown",
   "metadata": {},
   "source": [
    "---"
   ]
  }
 ],
 "metadata": {
  "file_extension": ".py",
  "kernelspec": {
   "display_name": "Python 3 (ipykernel)",
   "language": "python",
   "name": "python3"
  },
  "language_info": {
   "codemirror_mode": {
    "name": "ipython",
    "version": 3
   },
   "file_extension": ".py",
   "mimetype": "text/x-python",
   "name": "python",
   "nbconvert_exporter": "python",
   "pygments_lexer": "ipython3",
   "version": "3.9.7"
  },
  "mimetype": "text/x-python",
  "name": "python",
  "npconvert_exporter": "python",
  "pygments_lexer": "ipython3",
  "version": 3
 },
 "nbformat": 4,
 "nbformat_minor": 4
}
